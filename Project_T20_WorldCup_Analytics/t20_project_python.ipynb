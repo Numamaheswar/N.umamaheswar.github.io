{
 "cells": [
  {
   "cell_type": "code",
   "execution_count": 4,
   "id": "3e71485c-150a-4ad0-b4ac-1232bc5120e1",
   "metadata": {},
   "outputs": [],
   "source": [
    "import numpy as np\n",
    "import pandas as pd"
   ]
  },
  {
   "cell_type": "code",
   "execution_count": 12,
   "id": "ab4779a1-4b79-4f13-9b5f-2b52727f8172",
   "metadata": {},
   "outputs": [],
   "source": [
    "matches = pd.read_csv('matches.csv')\n",
    "deliveries = pd.read_csv('deliveries.csv')\n"
   ]
  },
  {
   "cell_type": "code",
   "execution_count": 13,
   "id": "8f9ad3d8-d27e-4a75-8baa-e7fdc93a4bf1",
   "metadata": {},
   "outputs": [
    {
     "name": "stdout",
     "output_type": "stream",
     "text": [
      "\n",
      "Matches Info:\n",
      "<class 'pandas.core.frame.DataFrame'>\n",
      "RangeIndex: 52 entries, 0 to 51\n",
      "Data columns (total 18 columns):\n",
      " #   Column           Non-Null Count  Dtype  \n",
      "---  ------           --------------  -----  \n",
      " 0   season           52 non-null     int64  \n",
      " 1   team1            52 non-null     object \n",
      " 2   team2            52 non-null     object \n",
      " 3   date             52 non-null     object \n",
      " 4   match_number     52 non-null     int64  \n",
      " 5   venue            52 non-null     object \n",
      " 6   city             52 non-null     object \n",
      " 7   toss_winner      52 non-null     object \n",
      " 8   toss_decision    52 non-null     object \n",
      " 9   player_of_match  51 non-null     object \n",
      " 10  umpire1          52 non-null     object \n",
      " 11  umpire2          52 non-null     object \n",
      " 12  reserve_umpire   52 non-null     object \n",
      " 13  match_referee    52 non-null     object \n",
      " 14  winner           50 non-null     object \n",
      " 15  winner_runs      25 non-null     float64\n",
      " 16  winner_wickets   24 non-null     float64\n",
      " 17  match_type       52 non-null     object \n",
      "dtypes: float64(2), int64(2), object(14)\n",
      "memory usage: 7.4+ KB\n",
      "None\n",
      "\n",
      "Deliveries Info:\n",
      "<class 'pandas.core.frame.DataFrame'>\n",
      "RangeIndex: 11472 entries, 0 to 11471\n",
      "Data columns (total 22 columns):\n",
      " #   Column                  Non-Null Count  Dtype  \n",
      "---  ------                  --------------  -----  \n",
      " 0   match_id                11472 non-null  int64  \n",
      " 1   season                  11472 non-null  int64  \n",
      " 2   start_date              11472 non-null  object \n",
      " 3   venue                   11472 non-null  object \n",
      " 4   innings                 11472 non-null  int64  \n",
      " 5   ball                    11472 non-null  float64\n",
      " 6   batting_team            11472 non-null  object \n",
      " 7   bowling_team            11472 non-null  object \n",
      " 8   striker                 11472 non-null  object \n",
      " 9   non_striker             11472 non-null  object \n",
      " 10  bowler                  11472 non-null  object \n",
      " 11  runs_off_bat            11472 non-null  int64  \n",
      " 12  extras                  11472 non-null  int64  \n",
      " 13  wides                   408 non-null    float64\n",
      " 14  noballs                 45 non-null     float64\n",
      " 15  byes                    41 non-null     float64\n",
      " 16  legbyes                 179 non-null    float64\n",
      " 17  penalty                 1 non-null      float64\n",
      " 18  wicket_type             684 non-null    object \n",
      " 19  player_dismissed        684 non-null    object \n",
      " 20  other_wicket_type       0 non-null      float64\n",
      " 21  other_player_dismissed  0 non-null      float64\n",
      "dtypes: float64(8), int64(5), object(9)\n",
      "memory usage: 1.9+ MB\n",
      "None\n"
     ]
    }
   ],
   "source": [
    "print(\"\\nMatches Info:\")\n",
    "print(matches.info())\n",
    "print(\"\\nDeliveries Info:\")\n",
    "print(deliveries.info())"
   ]
  },
  {
   "cell_type": "code",
   "execution_count": 15,
   "id": "cbf8e3af-1a3b-4170-bebf-7bc728fb7e6b",
   "metadata": {},
   "outputs": [
    {
     "name": "stdout",
     "output_type": "stream",
     "text": [
      "Matches Dataset:\n",
      "   season             team1                     team2        date  \\\n",
      "0    2024            Canada  United States of America  2024/06/01   \n",
      "1    2024  Papua New Guinea               West Indies  2024/06/02   \n",
      "2    2024              Oman                   Namibia  2024/06/02   \n",
      "3    2024         Sri Lanka              South Africa  2024/06/03   \n",
      "4    2024       Afghanistan                    Uganda  2024/06/03   \n",
      "\n",
      "   match_number                                        venue        city  \\\n",
      "0             1                        Grand Prairie Stadium      Dallas   \n",
      "1             2                           Providence Stadium  Providence   \n",
      "2             3                              Kensington Oval  Bridgetown   \n",
      "3             4  Nassau County International Cricket Stadium    New York   \n",
      "4             5                           Providence Stadium  Providence   \n",
      "\n",
      "                toss_winner toss_decision   player_of_match         umpire1  \\\n",
      "0  United States of America         field       Aaron Jones  RK Illingworth   \n",
      "1               West Indies         field          RL Chase    AT Holdstock   \n",
      "2                   Namibia         field           D Wiese   J Madanagopal   \n",
      "3                 Sri Lanka           bat          A Nortje        CM Brown   \n",
      "4                    Uganda         field  Fazalhaq Farooqi      Ahsan Raza   \n",
      "\n",
      "            umpire2   reserve_umpire  match_referee                    winner  \\\n",
      "0      Sharfuddoula         L Rusere  RB Richardson  United States of America   \n",
      "1       Rashid Riaz  HDPK Dharmasena     AJ Pycroft               West Indies   \n",
      "2         JS Wilson      Asif Yaqoob   RS Madugalle                       NaN   \n",
      "3  RA Kettleborough         AG Wharf       JJ Crowe              South Africa   \n",
      "4   HDPK Dharmasena      Rashid Riaz     AJ Pycroft               Afghanistan   \n",
      "\n",
      "   winner_runs  winner_wickets match_type  \n",
      "0          NaN             7.0      Group  \n",
      "1          NaN             5.0      Group  \n",
      "2          NaN             NaN      Group  \n",
      "3          NaN             6.0      Group  \n",
      "4        125.0             NaN      Group  \n"
     ]
    }
   ],
   "source": [
    "print(\"Matches Dataset:\")\n",
    "print(matches.head())\n"
   ]
  },
  {
   "cell_type": "code",
   "execution_count": 16,
   "id": "fc5a4cb3-44dd-4f09-a479-06f889dbb5b6",
   "metadata": {},
   "outputs": [
    {
     "name": "stdout",
     "output_type": "stream",
     "text": [
      "\n",
      "Deliveries Dataset:\n",
      "   match_id  season  start_date                       venue  innings  ball  \\\n",
      "0         1    2024  2024-06-02  Providence Stadium, Guyana        1   0.1   \n",
      "1         1    2024  2024-06-02  Providence Stadium, Guyana        1   0.2   \n",
      "2         1    2024  2024-06-02  Providence Stadium, Guyana        1   0.3   \n",
      "3         1    2024  2024-06-02  Providence Stadium, Guyana        1   0.4   \n",
      "4         1    2024  2024-06-02  Providence Stadium, Guyana        1   0.5   \n",
      "\n",
      "       batting_team bowling_team striker non_striker  ... extras  wides  \\\n",
      "0  Papua New Guinea  West Indies  TP Ura      A Vala  ...      0    NaN   \n",
      "1  Papua New Guinea  West Indies  TP Ura      A Vala  ...      0    NaN   \n",
      "2  Papua New Guinea  West Indies  A Vala      TP Ura  ...      0    NaN   \n",
      "3  Papua New Guinea  West Indies  A Vala      TP Ura  ...      0    NaN   \n",
      "4  Papua New Guinea  West Indies  A Vala      TP Ura  ...      0    NaN   \n",
      "\n",
      "   noballs  byes  legbyes  penalty  wicket_type  player_dismissed  \\\n",
      "0      NaN   NaN      NaN      NaN          NaN               NaN   \n",
      "1      NaN   NaN      NaN      NaN          NaN               NaN   \n",
      "2      NaN   NaN      NaN      NaN          NaN               NaN   \n",
      "3      NaN   NaN      NaN      NaN          NaN               NaN   \n",
      "4      NaN   NaN      NaN      NaN          NaN               NaN   \n",
      "\n",
      "  other_wicket_type other_player_dismissed  \n",
      "0               NaN                    NaN  \n",
      "1               NaN                    NaN  \n",
      "2               NaN                    NaN  \n",
      "3               NaN                    NaN  \n",
      "4               NaN                    NaN  \n",
      "\n",
      "[5 rows x 22 columns]\n"
     ]
    }
   ],
   "source": [
    "print(\"\\nDeliveries Dataset:\")\n",
    "print(deliveries.head())"
   ]
  },
  {
   "cell_type": "markdown",
   "id": "79e88e10-8b73-444a-a323-55f046c686d3",
   "metadata": {},
   "source": [
    "file handling with the nul values and replaced with 0 for int and for string no result"
   ]
  },
  {
   "cell_type": "code",
   "execution_count": 19,
   "id": "18ca632c-0692-4ce2-9bb8-90b6bb58816d",
   "metadata": {},
   "outputs": [],
   "source": [
    "for col in matches.columns:\n",
    "    if matches[col].dtype in ['int64', 'float64']:\n",
    "        matches[col] = matches[col].fillna(0)\n",
    "    else:\n",
    "        matches[col] = matches[col].fillna('No Result')\n"
   ]
  },
  {
   "cell_type": "code",
   "execution_count": 21,
   "id": "3456ed0f-345b-4634-96a7-bc3b425c7940",
   "metadata": {},
   "outputs": [],
   "source": [
    "for col in deliveries.columns:\n",
    "    if deliveries[col].dtype in ['int64', 'float64']:\n",
    "        deliveries[col] = deliveries[col].fillna(0)\n",
    "    else:\n",
    "        deliveries[col] = deliveries[col].fillna('No Result')\n"
   ]
  },
  {
   "cell_type": "code",
   "execution_count": 22,
   "id": "5a92d0f9-ec71-4535-bf6d-1830f421e1fe",
   "metadata": {},
   "outputs": [
    {
     "name": "stdout",
     "output_type": "stream",
     "text": [
      "\n",
      "Null Values in Matches:\n",
      "season             0\n",
      "team1              0\n",
      "team2              0\n",
      "date               0\n",
      "match_number       0\n",
      "venue              0\n",
      "city               0\n",
      "toss_winner        0\n",
      "toss_decision      0\n",
      "player_of_match    0\n",
      "umpire1            0\n",
      "umpire2            0\n",
      "reserve_umpire     0\n",
      "match_referee      0\n",
      "winner             0\n",
      "winner_runs        0\n",
      "winner_wickets     0\n",
      "match_type         0\n",
      "dtype: int64\n",
      "\n",
      "Null Values in Deliveries:\n",
      "match_id                  0\n",
      "season                    0\n",
      "start_date                0\n",
      "venue                     0\n",
      "innings                   0\n",
      "ball                      0\n",
      "batting_team              0\n",
      "bowling_team              0\n",
      "striker                   0\n",
      "non_striker               0\n",
      "bowler                    0\n",
      "runs_off_bat              0\n",
      "extras                    0\n",
      "wides                     0\n",
      "noballs                   0\n",
      "byes                      0\n",
      "legbyes                   0\n",
      "penalty                   0\n",
      "wicket_type               0\n",
      "player_dismissed          0\n",
      "other_wicket_type         0\n",
      "other_player_dismissed    0\n",
      "dtype: int64\n"
     ]
    }
   ],
   "source": [
    "print(\"\\nNull Values in Matches:\")\n",
    "print(matches.isnull().sum())\n",
    "\n",
    "print(\"\\nNull Values in Deliveries:\")\n",
    "print(deliveries.isnull().sum())"
   ]
  },
  {
   "cell_type": "markdown",
   "id": "aa229a55-2363-4ed4-b7bf-fa93f15ed9e2",
   "metadata": {},
   "source": [
    "Measures how well a batsman performs under pressure (Death overs or chasing a big score)"
   ]
  },
  {
   "cell_type": "code",
   "execution_count": 58,
   "id": "d4a1e8e8-ef00-4f37-96de-7236b046ccbb",
   "metadata": {},
   "outputs": [
    {
     "name": "stdout",
     "output_type": "stream",
     "text": [
      "Index(['season', 'team1', 'team2', 'date', 'match_number', 'venue', 'city',\n",
      "       'toss_winner', 'toss_decision', 'player_of_match', 'umpire1', 'umpire2',\n",
      "       'reserve_umpire', 'match_referee', 'winner', 'winner_runs',\n",
      "       'winner_wickets', 'match_type', 'match_id'],\n",
      "      dtype='object')\n"
     ]
    }
   ],
   "source": [
    "print(.columns)\n"
   ]
  },
  {
   "cell_type": "code",
   "execution_count": 56,
   "id": "76ad34c7-15a2-4bb3-9263-f67c79e85130",
   "metadata": {},
   "outputs": [],
   "source": [
    "df = matches\n",
    "df[\"match_id\"] = deliveries[\"match_id\"]"
   ]
  },
  {
   "cell_type": "code",
   "execution_count": 57,
   "id": "8e40ff14-e195-45e2-a867-404ce9c421b6",
   "metadata": {},
   "outputs": [
    {
     "data": {
      "text/html": [
       "<div>\n",
       "<style scoped>\n",
       "    .dataframe tbody tr th:only-of-type {\n",
       "        vertical-align: middle;\n",
       "    }\n",
       "\n",
       "    .dataframe tbody tr th {\n",
       "        vertical-align: top;\n",
       "    }\n",
       "\n",
       "    .dataframe thead th {\n",
       "        text-align: right;\n",
       "    }\n",
       "</style>\n",
       "<table border=\"1\" class=\"dataframe\">\n",
       "  <thead>\n",
       "    <tr style=\"text-align: right;\">\n",
       "      <th></th>\n",
       "      <th>season</th>\n",
       "      <th>team1</th>\n",
       "      <th>team2</th>\n",
       "      <th>date</th>\n",
       "      <th>match_number</th>\n",
       "      <th>venue</th>\n",
       "      <th>city</th>\n",
       "      <th>toss_winner</th>\n",
       "      <th>toss_decision</th>\n",
       "      <th>player_of_match</th>\n",
       "      <th>umpire1</th>\n",
       "      <th>umpire2</th>\n",
       "      <th>reserve_umpire</th>\n",
       "      <th>match_referee</th>\n",
       "      <th>winner</th>\n",
       "      <th>winner_runs</th>\n",
       "      <th>winner_wickets</th>\n",
       "      <th>match_type</th>\n",
       "      <th>match_id</th>\n",
       "    </tr>\n",
       "  </thead>\n",
       "  <tbody>\n",
       "    <tr>\n",
       "      <th>0</th>\n",
       "      <td>2024</td>\n",
       "      <td>Canada</td>\n",
       "      <td>United States of America</td>\n",
       "      <td>2024/06/01</td>\n",
       "      <td>1</td>\n",
       "      <td>Grand Prairie Stadium</td>\n",
       "      <td>Dallas</td>\n",
       "      <td>United States of America</td>\n",
       "      <td>field</td>\n",
       "      <td>Aaron Jones</td>\n",
       "      <td>RK Illingworth</td>\n",
       "      <td>Sharfuddoula</td>\n",
       "      <td>L Rusere</td>\n",
       "      <td>RB Richardson</td>\n",
       "      <td>United States of America</td>\n",
       "      <td>0.0</td>\n",
       "      <td>7.0</td>\n",
       "      <td>Group</td>\n",
       "      <td>1</td>\n",
       "    </tr>\n",
       "    <tr>\n",
       "      <th>1</th>\n",
       "      <td>2024</td>\n",
       "      <td>Papua New Guinea</td>\n",
       "      <td>West Indies</td>\n",
       "      <td>2024/06/02</td>\n",
       "      <td>2</td>\n",
       "      <td>Providence Stadium</td>\n",
       "      <td>Providence</td>\n",
       "      <td>West Indies</td>\n",
       "      <td>field</td>\n",
       "      <td>RL Chase</td>\n",
       "      <td>AT Holdstock</td>\n",
       "      <td>Rashid Riaz</td>\n",
       "      <td>HDPK Dharmasena</td>\n",
       "      <td>AJ Pycroft</td>\n",
       "      <td>West Indies</td>\n",
       "      <td>0.0</td>\n",
       "      <td>5.0</td>\n",
       "      <td>Group</td>\n",
       "      <td>1</td>\n",
       "    </tr>\n",
       "    <tr>\n",
       "      <th>2</th>\n",
       "      <td>2024</td>\n",
       "      <td>Oman</td>\n",
       "      <td>Namibia</td>\n",
       "      <td>2024/06/02</td>\n",
       "      <td>3</td>\n",
       "      <td>Kensington Oval</td>\n",
       "      <td>Bridgetown</td>\n",
       "      <td>Namibia</td>\n",
       "      <td>field</td>\n",
       "      <td>D Wiese</td>\n",
       "      <td>J Madanagopal</td>\n",
       "      <td>JS Wilson</td>\n",
       "      <td>Asif Yaqoob</td>\n",
       "      <td>RS Madugalle</td>\n",
       "      <td>No Result</td>\n",
       "      <td>0.0</td>\n",
       "      <td>0.0</td>\n",
       "      <td>Group</td>\n",
       "      <td>1</td>\n",
       "    </tr>\n",
       "    <tr>\n",
       "      <th>3</th>\n",
       "      <td>2024</td>\n",
       "      <td>Sri Lanka</td>\n",
       "      <td>South Africa</td>\n",
       "      <td>2024/06/03</td>\n",
       "      <td>4</td>\n",
       "      <td>Nassau County International Cricket Stadium</td>\n",
       "      <td>New York</td>\n",
       "      <td>Sri Lanka</td>\n",
       "      <td>bat</td>\n",
       "      <td>A Nortje</td>\n",
       "      <td>CM Brown</td>\n",
       "      <td>RA Kettleborough</td>\n",
       "      <td>AG Wharf</td>\n",
       "      <td>JJ Crowe</td>\n",
       "      <td>South Africa</td>\n",
       "      <td>0.0</td>\n",
       "      <td>6.0</td>\n",
       "      <td>Group</td>\n",
       "      <td>1</td>\n",
       "    </tr>\n",
       "    <tr>\n",
       "      <th>4</th>\n",
       "      <td>2024</td>\n",
       "      <td>Afghanistan</td>\n",
       "      <td>Uganda</td>\n",
       "      <td>2024/06/03</td>\n",
       "      <td>5</td>\n",
       "      <td>Providence Stadium</td>\n",
       "      <td>Providence</td>\n",
       "      <td>Uganda</td>\n",
       "      <td>field</td>\n",
       "      <td>Fazalhaq Farooqi</td>\n",
       "      <td>Ahsan Raza</td>\n",
       "      <td>HDPK Dharmasena</td>\n",
       "      <td>Rashid Riaz</td>\n",
       "      <td>AJ Pycroft</td>\n",
       "      <td>Afghanistan</td>\n",
       "      <td>125.0</td>\n",
       "      <td>0.0</td>\n",
       "      <td>Group</td>\n",
       "      <td>1</td>\n",
       "    </tr>\n",
       "  </tbody>\n",
       "</table>\n",
       "</div>"
      ],
      "text/plain": [
       "   season             team1                     team2        date  \\\n",
       "0    2024            Canada  United States of America  2024/06/01   \n",
       "1    2024  Papua New Guinea               West Indies  2024/06/02   \n",
       "2    2024              Oman                   Namibia  2024/06/02   \n",
       "3    2024         Sri Lanka              South Africa  2024/06/03   \n",
       "4    2024       Afghanistan                    Uganda  2024/06/03   \n",
       "\n",
       "   match_number                                        venue        city  \\\n",
       "0             1                        Grand Prairie Stadium      Dallas   \n",
       "1             2                           Providence Stadium  Providence   \n",
       "2             3                              Kensington Oval  Bridgetown   \n",
       "3             4  Nassau County International Cricket Stadium    New York   \n",
       "4             5                           Providence Stadium  Providence   \n",
       "\n",
       "                toss_winner toss_decision   player_of_match         umpire1  \\\n",
       "0  United States of America         field       Aaron Jones  RK Illingworth   \n",
       "1               West Indies         field          RL Chase    AT Holdstock   \n",
       "2                   Namibia         field           D Wiese   J Madanagopal   \n",
       "3                 Sri Lanka           bat          A Nortje        CM Brown   \n",
       "4                    Uganda         field  Fazalhaq Farooqi      Ahsan Raza   \n",
       "\n",
       "            umpire2   reserve_umpire  match_referee                    winner  \\\n",
       "0      Sharfuddoula         L Rusere  RB Richardson  United States of America   \n",
       "1       Rashid Riaz  HDPK Dharmasena     AJ Pycroft               West Indies   \n",
       "2         JS Wilson      Asif Yaqoob   RS Madugalle                 No Result   \n",
       "3  RA Kettleborough         AG Wharf       JJ Crowe              South Africa   \n",
       "4   HDPK Dharmasena      Rashid Riaz     AJ Pycroft               Afghanistan   \n",
       "\n",
       "   winner_runs  winner_wickets match_type  match_id  \n",
       "0          0.0             7.0      Group         1  \n",
       "1          0.0             5.0      Group         1  \n",
       "2          0.0             0.0      Group         1  \n",
       "3          0.0             6.0      Group         1  \n",
       "4        125.0             0.0      Group         1  "
      ]
     },
     "execution_count": 57,
     "metadata": {},
     "output_type": "execute_result"
    }
   ],
   "source": [
    "df = matches\n",
    "df."
   ]
  },
  {
   "cell_type": "code",
   "execution_count": 70,
   "id": "968f9902-33da-4659-9c00-df06025c4cdf",
   "metadata": {},
   "outputs": [],
   "source": [
    "def classify_run(run):\n",
    "    if run == 0:\n",
    "        return 'dot'\n",
    "    elif run == 4:\n",
    "        return 'four'\n",
    "    elif run == 6:\n",
    "        return 'six'\n",
    "    else:\n",
    "        return str(run)  # for 1, 2, 3, 5\n"
   ]
  },
  {
   "cell_type": "code",
   "execution_count": 71,
   "id": "4c7f1ddf-4338-4ebb-aec0-78fbef2c591f",
   "metadata": {},
   "outputs": [],
   "source": [
    "merged_df['is_boundary'] = np.where(merged_df['runs_off_bat'].isin([4, 6]), 1, 0)"
   ]
  },
  {
   "cell_type": "code",
   "execution_count": 74,
   "id": "a98bef2e-68a4-4cb5-a33e-f564f79b2924",
   "metadata": {},
   "outputs": [],
   "source": [
    "merged_df['total_runs'] = merged_df['runs_off_bat'] + merged_df['extras']\n"
   ]
  },
  {
   "cell_type": "code",
   "execution_count": 69,
   "id": "66478cc5-cbf6-4e3e-bdef-7300568f6563",
   "metadata": {},
   "outputs": [],
   "source": [
    "merged_df['is_wicket'] = np.where(merged_df['wicket_type'].notna(), 1, 0)\n"
   ]
  },
  {
   "cell_type": "code",
   "execution_count": 81,
   "id": "4496c86d-4518-450c-b3a6-556400e3c5df",
   "metadata": {},
   "outputs": [],
   "source": [
    "matches.to_csv(\"cleaned_matches.csv\", index=False)"
   ]
  },
  {
   "cell_type": "code",
   "execution_count": 6,
   "id": "7b9b8de3-a8c8-4a3f-9646-eb811f88c141",
   "metadata": {},
   "outputs": [],
   "source": [
    "matches = pd.read_csv('cleaned_matches.csv')\n",
    "deliveries = pd.read_csv('cleaned_deliveries.csv')"
   ]
  },
  {
   "cell_type": "code",
   "execution_count": 7,
   "id": "666ec20f-2691-408b-a7ec-2cd7834d48ce",
   "metadata": {},
   "outputs": [],
   "source": [
    "combined_df = deliveries.merge(matches, left_on='match_id', right_on='match_id')"
   ]
  },
  {
   "cell_type": "code",
   "execution_count": 8,
   "id": "4ceeea57-1433-48dc-b88e-6b3714d256a5",
   "metadata": {},
   "outputs": [
    {
     "name": "stdout",
     "output_type": "stream",
     "text": [
      "['match_number_x', 'innings', 'balls', 'batting_team', 'bowling_team', 'striker', 'non_striker', 'runs_off_bat', 'extras', 'running_runs', 'fours', 'sixes', 'total_runs', 'bowler', 'wicket_type', 'caught', 'bowled', 'lbw', 'run_out', 'total_wickets', 'is_boundary', 'player_dismissed', 'team1_x', 'team2_x', 'date_x', 'venue_x', 'city_x', 'toss_winner_x', 'toss_decision_x', 'player_of_match_x', 'umpire1_x', 'umpire2_x', 'reserve_umpire_x', 'match_referee_x', 'winner_x', 'winner_runs_x', 'winner_wickets_x', 'match_type_x', 'match_id', 'match_number_y', 'team1_y', 'team2_y', 'date_y', 'venue_y', 'city_y', 'toss_winner_y', 'toss_decision_y', 'player_of_match_y', 'umpire1_y', 'umpire2_y', 'reserve_umpire_y', 'match_referee_y', 'winner_y', 'winner_runs_y', 'winner_wickets_y', 'match_type_y']\n"
     ]
    }
   ],
   "source": [
    "print(combined_df.columns.tolist())"
   ]
  },
  {
   "cell_type": "code",
   "execution_count": 9,
   "id": "1925fe3c-fd0f-43d7-926c-aac04ff2f12e",
   "metadata": {},
   "outputs": [],
   "source": [
    "combined_df['over'] = combined_df['balls'] // 6 + 1"
   ]
  },
  {
   "cell_type": "markdown",
   "id": "0fd78e94-902a-48a8-a728-4d3208a2fe01",
   "metadata": {},
   "source": [
    "Over phase & Pressure = Death overs + Chasing side"
   ]
  },
  {
   "cell_type": "code",
   "execution_count": 13,
   "id": "9e2deee6-d72d-4c12-aab1-db325d05862f",
   "metadata": {},
   "outputs": [],
   "source": [
    "def get_phase(over):\n",
    "    if over <= 6:\n",
    "        return 'Powerplay'\n",
    "    elif over <= 15:\n",
    "        return 'Middle'\n",
    "    else:\n",
    "        return 'Death'\n",
    "combined_df['over_phase'] = combined_df['over'].apply(get_phase)\n",
    "combined_df['is_pressure_over'] = combined_df['over_phase'].apply(lambda x: 1 if x == 'Death' else 0)\n",
    "combined_df['is_chasing'] = np.where(combined_df['innings'] == 2, 1, 0)\n",
    "combined_df['is_pressure_situation'] = combined_df[['is_pressure_over', 'is_chasing']].max(axis=1)\n",
    "\n",
    "        \n"
   ]
  },
  {
   "cell_type": "code",
   "execution_count": 14,
   "id": "90f719dd-7552-4f0a-9fff-aa9a1d6fa031",
   "metadata": {},
   "outputs": [],
   "source": [
    "pressure_batsmen = combined_df[combined_df['is_pressure_situation'] == 1].groupby('striker')['runs_off_bat'].sum().reset_index()\n",
    "pressure_batsmen.columns = ['striker', 'pressure_runs']\n",
    "pressure_batsmen = pressure_batsmen.sort_values(by='pressure_runs', ascending=False)"
   ]
  },
  {
   "cell_type": "code",
   "execution_count": 15,
   "id": "641f157a-e99c-41e6-bebf-821d0d6cf254",
   "metadata": {},
   "outputs": [],
   "source": [
    "\n",
    "matches.rename(columns={\n",
    "    'winner_runs_x': 'winner_runs',\n",
    "    'winner_runs_y': 'winner_runs_backup',\n",
    "    'winner_wickets_x': 'winner_wickets',\n",
    "    'winner_wickets_y': 'winner_wickets_backup'\n",
    "}, inplace=True)\n"
   ]
  },
  {
   "cell_type": "code",
   "execution_count": 27,
   "id": "ba17ddc2-6e47-4f99-8b84-1db3c132dbe4",
   "metadata": {},
   "outputs": [
    {
     "data": {
      "text/plain": [
       "['match_number',\n",
       " 'innings',\n",
       " 'balls',\n",
       " 'batting_team',\n",
       " 'bowling_team',\n",
       " 'striker',\n",
       " 'non_striker',\n",
       " 'runs_off_bat',\n",
       " 'extras',\n",
       " 'running_runs',\n",
       " 'fours',\n",
       " 'sixes',\n",
       " 'total_runs',\n",
       " 'bowler',\n",
       " 'wicket_type',\n",
       " 'caught',\n",
       " 'bowled',\n",
       " 'lbw',\n",
       " 'run_out',\n",
       " 'total_wickets',\n",
       " 'is_boundary',\n",
       " 'player_dismissed',\n",
       " 'team1',\n",
       " 'team2',\n",
       " 'date',\n",
       " 'venue',\n",
       " 'city',\n",
       " 'toss_winner',\n",
       " 'toss_decision',\n",
       " 'player_of_match',\n",
       " 'umpire1',\n",
       " 'umpire2',\n",
       " 'reserve_umpire',\n",
       " 'match_referee',\n",
       " 'winner',\n",
       " 'winner_runs',\n",
       " 'winner_wickets',\n",
       " 'match_type',\n",
       " 'match_id',\n",
       " 'is_wickets']"
      ]
     },
     "execution_count": 27,
     "metadata": {},
     "output_type": "execute_result"
    }
   ],
   "source": [
    "deliveries.columns.tolist()"
   ]
  },
  {
   "cell_type": "markdown",
   "id": "09525f50-fece-4166-8178-4af3a246a5eb",
   "metadata": {},
   "source": [
    "Clutch Player Score (Performers in Close Matches)\n"
   ]
  },
  {
   "cell_type": "code",
   "execution_count": 17,
   "id": "9d61ceda-c9dc-45d3-9a8e-f4a8e5cb1c00",
   "metadata": {},
   "outputs": [],
   "source": [
    "\n",
    "matches['winner_runs'] = matches[['winner_runs', 'winner_runs']].min(axis=1)\n",
    "matches['winner_wickets'] = matches[['winner_wickets', 'winner_wickets']].min(axis=1)\n",
    "\n",
    "\n",
    "matches['is_close_match'] = matches.apply(\n",
    "    lambda x: 1 if (x['winner_runs'] <= 10 or x['winner_wickets'] == 1) else 0, \n",
    "    axis=1\n",
    ")\n"
   ]
  },
  {
   "cell_type": "code",
   "execution_count": 18,
   "id": "e30b4fa1-7d63-4241-b73f-380116f442ed",
   "metadata": {},
   "outputs": [],
   "source": [
    "close_matches_ids = matches[matches['is_close_match'] == 1]['match_id']\n",
    "clutch_df = combined_df[combined_df['match_id'].isin(close_matches_ids)]\n",
    "clutch_batsmen = clutch_df.groupby('striker')['runs_off_bat'].sum().reset_index()\n",
    "clutch_batsmen.columns = ['striker', 'clutch_runs']"
   ]
  },
  {
   "cell_type": "code",
   "execution_count": 19,
   "id": "068b7b08-bfac-4ee4-bfcd-ff5f6493958d",
   "metadata": {},
   "outputs": [],
   "source": [
    "deliveries['is_wickets'] = deliveries['player_dismissed'].apply(lambda x: 1 if pd.notna(x) else 0)\n"
   ]
  },
  {
   "cell_type": "code",
   "execution_count": 20,
   "id": "309efccd-08e4-4418-8075-2fe8f70b09e6",
   "metadata": {},
   "outputs": [],
   "source": [
    "combined_df['is_wickets'] = combined_df['wicket_type'].notna().astype(int)\n"
   ]
  },
  {
   "cell_type": "code",
   "execution_count": 28,
   "id": "f993727e-e4d3-4030-9753-3d939c8fb0e8",
   "metadata": {},
   "outputs": [
    {
     "data": {
      "text/plain": [
       "['match_number',\n",
       " 'innings',\n",
       " 'balls',\n",
       " 'batting_team',\n",
       " 'bowling_team',\n",
       " 'striker',\n",
       " 'non_striker',\n",
       " 'runs_off_bat',\n",
       " 'extras',\n",
       " 'running_runs',\n",
       " 'fours',\n",
       " 'sixes',\n",
       " 'total_runs',\n",
       " 'bowler',\n",
       " 'wicket_type',\n",
       " 'caught',\n",
       " 'bowled',\n",
       " 'lbw',\n",
       " 'run_out',\n",
       " 'total_wickets',\n",
       " 'is_boundary',\n",
       " 'player_dismissed',\n",
       " 'team1',\n",
       " 'team2',\n",
       " 'date',\n",
       " 'venue',\n",
       " 'city',\n",
       " 'toss_winner',\n",
       " 'toss_decision',\n",
       " 'player_of_match',\n",
       " 'umpire1',\n",
       " 'umpire2',\n",
       " 'reserve_umpire',\n",
       " 'match_referee',\n",
       " 'winner',\n",
       " 'winner_runs',\n",
       " 'winner_wickets',\n",
       " 'match_type',\n",
       " 'match_id',\n",
       " 'is_wickets']"
      ]
     },
     "execution_count": 28,
     "metadata": {},
     "output_type": "execute_result"
    }
   ],
   "source": [
    "deliveries.columns.tolist()"
   ]
  },
  {
   "cell_type": "markdown",
   "id": "5b0b5d7f-93c4-4f40-9499-3b8d142622d9",
   "metadata": {},
   "source": [
    "Custom MVP Score"
   ]
  },
  {
   "cell_type": "code",
   "execution_count": 21,
   "id": "d2bb6000-8374-48e4-9a75-502d4cfe2307",
   "metadata": {},
   "outputs": [
    {
     "name": "stderr",
     "output_type": "stream",
     "text": [
      "C:\\Users\\nethi\\AppData\\Local\\Temp\\ipykernel_19292\\2202785125.py:6: FutureWarning: A value is trying to be set on a copy of a DataFrame or Series through chained assignment using an inplace method.\n",
      "The behavior will change in pandas 3.0. This inplace method will never work because the intermediate object on which we are setting values always behaves as a copy.\n",
      "\n",
      "For example, when doing 'df[col].method(value, inplace=True)', try using 'df.method({col: value}, inplace=True)' or df[col] = df[col].method(value) instead, to perform the operation inplace on the original object.\n",
      "\n",
      "\n",
      "  mvp['wickets'].fillna(0, inplace=True)\n"
     ]
    }
   ],
   "source": [
    "runs = combined_df.groupby('striker')['runs_off_bat'].sum()\n",
    "wickets = combined_df[combined_df['is_wickets'] == 1].groupby('bowler')['is_wickets'].count()\n",
    "\n",
    "mvp = pd.DataFrame({'runs': runs})\n",
    "mvp['wickets'] = wickets\n",
    "mvp['wickets'].fillna(0, inplace=True)\n",
    "mvp['mvp_score'] = mvp['runs'] + (25 * mvp['wickets'])  # 1 wicket ~ 25 runs\n",
    "\n",
    "mvp = mvp.sort_values(by='mvp_score', ascending=False)\n"
   ]
  },
  {
   "cell_type": "code",
   "execution_count": 23,
   "id": "c5052096-64c3-4e77-9f2e-81eed65ad49b",
   "metadata": {},
   "outputs": [
    {
     "data": {
      "text/html": [
       "<div>\n",
       "<style scoped>\n",
       "    .dataframe tbody tr th:only-of-type {\n",
       "        vertical-align: middle;\n",
       "    }\n",
       "\n",
       "    .dataframe tbody tr th {\n",
       "        vertical-align: top;\n",
       "    }\n",
       "\n",
       "    .dataframe thead th {\n",
       "        text-align: right;\n",
       "    }\n",
       "</style>\n",
       "<table border=\"1\" class=\"dataframe\">\n",
       "  <thead>\n",
       "    <tr style=\"text-align: right;\">\n",
       "      <th></th>\n",
       "      <th>runs</th>\n",
       "      <th>wickets</th>\n",
       "      <th>mvp_score</th>\n",
       "    </tr>\n",
       "    <tr>\n",
       "      <th>striker</th>\n",
       "      <th></th>\n",
       "      <th></th>\n",
       "      <th></th>\n",
       "    </tr>\n",
       "  </thead>\n",
       "  <tbody>\n",
       "    <tr>\n",
       "      <th>RL Chase</th>\n",
       "      <td>113568</td>\n",
       "      <td>73008.0</td>\n",
       "      <td>1938768.0</td>\n",
       "    </tr>\n",
       "    <tr>\n",
       "      <th>A Vala</th>\n",
       "      <td>56784</td>\n",
       "      <td>64896.0</td>\n",
       "      <td>1679184.0</td>\n",
       "    </tr>\n",
       "    <tr>\n",
       "      <th>AD Russell</th>\n",
       "      <td>40560</td>\n",
       "      <td>51376.0</td>\n",
       "      <td>1324960.0</td>\n",
       "    </tr>\n",
       "    <tr>\n",
       "      <th>CA Soper</th>\n",
       "      <td>27040</td>\n",
       "      <td>48672.0</td>\n",
       "      <td>1243840.0</td>\n",
       "    </tr>\n",
       "    <tr>\n",
       "      <th>KV Morea</th>\n",
       "      <td>5408</td>\n",
       "      <td>48672.0</td>\n",
       "      <td>1222208.0</td>\n",
       "    </tr>\n",
       "    <tr>\n",
       "      <th>CJA Amini</th>\n",
       "      <td>32448</td>\n",
       "      <td>32448.0</td>\n",
       "      <td>843648.0</td>\n",
       "    </tr>\n",
       "    <tr>\n",
       "      <th>S Bau</th>\n",
       "      <td>135200</td>\n",
       "      <td>16224.0</td>\n",
       "      <td>540800.0</td>\n",
       "    </tr>\n",
       "    <tr>\n",
       "      <th>BA King</th>\n",
       "      <td>91936</td>\n",
       "      <td>0.0</td>\n",
       "      <td>91936.0</td>\n",
       "    </tr>\n",
       "    <tr>\n",
       "      <th>K Doriga</th>\n",
       "      <td>73008</td>\n",
       "      <td>0.0</td>\n",
       "      <td>73008.0</td>\n",
       "    </tr>\n",
       "    <tr>\n",
       "      <th>N Pooran</th>\n",
       "      <td>73008</td>\n",
       "      <td>0.0</td>\n",
       "      <td>73008.0</td>\n",
       "    </tr>\n",
       "  </tbody>\n",
       "</table>\n",
       "</div>"
      ],
      "text/plain": [
       "              runs  wickets  mvp_score\n",
       "striker                               \n",
       "RL Chase    113568  73008.0  1938768.0\n",
       "A Vala       56784  64896.0  1679184.0\n",
       "AD Russell   40560  51376.0  1324960.0\n",
       "CA Soper     27040  48672.0  1243840.0\n",
       "KV Morea      5408  48672.0  1222208.0\n",
       "CJA Amini    32448  32448.0   843648.0\n",
       "S Bau       135200  16224.0   540800.0\n",
       "BA King      91936      0.0    91936.0\n",
       "K Doriga     73008      0.0    73008.0\n",
       "N Pooran     73008      0.0    73008.0"
      ]
     },
     "execution_count": 23,
     "metadata": {},
     "output_type": "execute_result"
    }
   ],
   "source": [
    "mvp.sort_values('mvp_score', ascending=False).head(10)\n"
   ]
  },
  {
   "cell_type": "code",
   "execution_count": 25,
   "id": "297045ed-bf05-4653-89a3-b565fbf87a82",
   "metadata": {},
   "outputs": [
    {
     "data": {
      "image/png": "[encoded data removed]",
      "text/plain": [
       "<Figure size 1000x500 with 1 Axes>"
      ]
     },
     "metadata": {},
     "output_type": "display_data"
    }
   ],
   "source": [
    "import matplotlib.pyplot as plt\n",
    "\n",
    "plt.figure(figsize=(10, 5))\n",
    "plt.hist(mvp['mvp_score'], bins=20, color='skyblue', edgecolor='black')\n",
    "plt.title('Impact Score Distribution')\n",
    "plt.xlabel('Impact Score')\n",
    "plt.ylabel('Number of Players')\n",
    "plt.grid(True)\n",
    "plt.show()\n"
   ]
  },
  {
   "cell_type": "code",
   "execution_count": 32,
   "id": "a5cdcd3e-b9ab-4219-957a-e65a96e14b91",
   "metadata": {},
   "outputs": [],
   "source": [
    "matches.to_csv(\"t20_matches_clean.csv\", index=False)\n",
    "deliveries.to_csv(\"t20_deliveries_clean.csv\", index=False)\n"
   ]
  },
  {
   "cell_type": "code",
   "execution_count": null,
   "id": "7adb137c-dc3b-4017-902f-41d7886cd80c",
   "metadata": {},
   "outputs": [],
   "source": []
  },
  {
   "cell_type": "code",
   "execution_count": null,
   "id": "719056e5-b824-4994-bbda-5ded82a15ad3",
   "metadata": {},
   "outputs": [],
   "source": []
  },
  {
   "cell_type": "code",
   "execution_count": null,
   "id": "8f63d4d8-6b9d-4a21-8baf-f490a6803600",
   "metadata": {},
   "outputs": [],
   "source": []
  }
 ],
 "metadata": {
  "kernelspec": {
   "display_name": "Python 3 (ipykernel)",
   "language": "python",
   "name": "python3"
  },
  "language_info": {
   "codemirror_mode": {
    "name": "ipython",
    "version": 3
   },
   "file_extension": ".py",
   "mimetype": "text/x-python",
   "name": "python",
   "nbconvert_exporter": "python",
   "pygments_lexer": "ipython3",
   "version": "3.12.7"
  }
 },
 "nbformat": 4,
 "nbformat_minor": 5
}
