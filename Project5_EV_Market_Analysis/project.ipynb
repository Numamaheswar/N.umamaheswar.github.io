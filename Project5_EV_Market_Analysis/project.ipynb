{
 "cells": [
  {
   "cell_type": "code",
   "execution_count": 1,
   "id": "be5f9a51-2a52-4d2d-a871-21975e3fd237",
   "metadata": {},
   "outputs": [],
   "source": [
    "import pandas as pd\n",
    "import numpy as np\n",
    "import matplotlib.pyplot as plt\n",
    "import seaborn as sns\n",
    "from scipy.stats import ttest_ind\n"
   ]
  },
  {
   "cell_type": "code",
   "execution_count": 5,
   "id": "165ecb6e-42ae-43ac-bccc-ab36597eefd2",
   "metadata": {},
   "outputs": [
    {
     "data": {
      "text/html": [
       "<div>\n",
       "<style scoped>\n",
       "    .dataframe tbody tr th:only-of-type {\n",
       "        vertical-align: middle;\n",
       "    }\n",
       "\n",
       "    .dataframe tbody tr th {\n",
       "        vertical-align: top;\n",
       "    }\n",
       "\n",
       "    .dataframe thead th {\n",
       "        text-align: right;\n",
       "    }\n",
       "</style>\n",
       "<table border=\"1\" class=\"dataframe\">\n",
       "  <thead>\n",
       "    <tr style=\"text-align: right;\">\n",
       "      <th></th>\n",
       "      <th>Car full name</th>\n",
       "      <th>Make</th>\n",
       "      <th>Model</th>\n",
       "      <th>Minimal price (gross) [PLN]</th>\n",
       "      <th>Engine power [KM]</th>\n",
       "      <th>Maximum torque [Nm]</th>\n",
       "      <th>Type of brakes</th>\n",
       "      <th>Drive type</th>\n",
       "      <th>Battery capacity [kWh]</th>\n",
       "      <th>Range (WLTP) [km]</th>\n",
       "      <th>...</th>\n",
       "      <th>Permissable gross weight [kg]</th>\n",
       "      <th>Maximum load capacity [kg]</th>\n",
       "      <th>Number of seats</th>\n",
       "      <th>Number of doors</th>\n",
       "      <th>Tire size [in]</th>\n",
       "      <th>Maximum speed [kph]</th>\n",
       "      <th>Boot capacity (VDA) [l]</th>\n",
       "      <th>Acceleration 0-100 kph [s]</th>\n",
       "      <th>Maximum DC charging power [kW]</th>\n",
       "      <th>mean - Energy consumption [kWh/100 km]</th>\n",
       "    </tr>\n",
       "  </thead>\n",
       "  <tbody>\n",
       "    <tr>\n",
       "      <th>0</th>\n",
       "      <td>Audi e-tron 55 quattro</td>\n",
       "      <td>Audi</td>\n",
       "      <td>e-tron 55 quattro</td>\n",
       "      <td>345700</td>\n",
       "      <td>360</td>\n",
       "      <td>664</td>\n",
       "      <td>disc (front + rear)</td>\n",
       "      <td>4WD</td>\n",
       "      <td>95.0</td>\n",
       "      <td>438</td>\n",
       "      <td>...</td>\n",
       "      <td>3130.0</td>\n",
       "      <td>640.0</td>\n",
       "      <td>5</td>\n",
       "      <td>5</td>\n",
       "      <td>19</td>\n",
       "      <td>200</td>\n",
       "      <td>660.0</td>\n",
       "      <td>5.7</td>\n",
       "      <td>150</td>\n",
       "      <td>24.45</td>\n",
       "    </tr>\n",
       "    <tr>\n",
       "      <th>1</th>\n",
       "      <td>Audi e-tron 50 quattro</td>\n",
       "      <td>Audi</td>\n",
       "      <td>e-tron 50 quattro</td>\n",
       "      <td>308400</td>\n",
       "      <td>313</td>\n",
       "      <td>540</td>\n",
       "      <td>disc (front + rear)</td>\n",
       "      <td>4WD</td>\n",
       "      <td>71.0</td>\n",
       "      <td>340</td>\n",
       "      <td>...</td>\n",
       "      <td>3040.0</td>\n",
       "      <td>670.0</td>\n",
       "      <td>5</td>\n",
       "      <td>5</td>\n",
       "      <td>19</td>\n",
       "      <td>190</td>\n",
       "      <td>660.0</td>\n",
       "      <td>6.8</td>\n",
       "      <td>150</td>\n",
       "      <td>23.80</td>\n",
       "    </tr>\n",
       "    <tr>\n",
       "      <th>2</th>\n",
       "      <td>Audi e-tron S quattro</td>\n",
       "      <td>Audi</td>\n",
       "      <td>e-tron S quattro</td>\n",
       "      <td>414900</td>\n",
       "      <td>503</td>\n",
       "      <td>973</td>\n",
       "      <td>disc (front + rear)</td>\n",
       "      <td>4WD</td>\n",
       "      <td>95.0</td>\n",
       "      <td>364</td>\n",
       "      <td>...</td>\n",
       "      <td>3130.0</td>\n",
       "      <td>565.0</td>\n",
       "      <td>5</td>\n",
       "      <td>5</td>\n",
       "      <td>20</td>\n",
       "      <td>210</td>\n",
       "      <td>660.0</td>\n",
       "      <td>4.5</td>\n",
       "      <td>150</td>\n",
       "      <td>27.55</td>\n",
       "    </tr>\n",
       "    <tr>\n",
       "      <th>3</th>\n",
       "      <td>Audi e-tron Sportback 50 quattro</td>\n",
       "      <td>Audi</td>\n",
       "      <td>e-tron Sportback 50 quattro</td>\n",
       "      <td>319700</td>\n",
       "      <td>313</td>\n",
       "      <td>540</td>\n",
       "      <td>disc (front + rear)</td>\n",
       "      <td>4WD</td>\n",
       "      <td>71.0</td>\n",
       "      <td>346</td>\n",
       "      <td>...</td>\n",
       "      <td>3040.0</td>\n",
       "      <td>640.0</td>\n",
       "      <td>5</td>\n",
       "      <td>5</td>\n",
       "      <td>19</td>\n",
       "      <td>190</td>\n",
       "      <td>615.0</td>\n",
       "      <td>6.8</td>\n",
       "      <td>150</td>\n",
       "      <td>23.30</td>\n",
       "    </tr>\n",
       "    <tr>\n",
       "      <th>4</th>\n",
       "      <td>Audi e-tron Sportback 55 quattro</td>\n",
       "      <td>Audi</td>\n",
       "      <td>e-tron Sportback 55 quattro</td>\n",
       "      <td>357000</td>\n",
       "      <td>360</td>\n",
       "      <td>664</td>\n",
       "      <td>disc (front + rear)</td>\n",
       "      <td>4WD</td>\n",
       "      <td>95.0</td>\n",
       "      <td>447</td>\n",
       "      <td>...</td>\n",
       "      <td>3130.0</td>\n",
       "      <td>670.0</td>\n",
       "      <td>5</td>\n",
       "      <td>5</td>\n",
       "      <td>19</td>\n",
       "      <td>200</td>\n",
       "      <td>615.0</td>\n",
       "      <td>5.7</td>\n",
       "      <td>150</td>\n",
       "      <td>23.85</td>\n",
       "    </tr>\n",
       "  </tbody>\n",
       "</table>\n",
       "<p>5 rows × 25 columns</p>\n",
       "</div>"
      ],
      "text/plain": [
       "                      Car full name  Make                        Model  \\\n",
       "0            Audi e-tron 55 quattro  Audi            e-tron 55 quattro   \n",
       "1            Audi e-tron 50 quattro  Audi            e-tron 50 quattro   \n",
       "2             Audi e-tron S quattro  Audi             e-tron S quattro   \n",
       "3  Audi e-tron Sportback 50 quattro  Audi  e-tron Sportback 50 quattro   \n",
       "4  Audi e-tron Sportback 55 quattro  Audi  e-tron Sportback 55 quattro   \n",
       "\n",
       "   Minimal price (gross) [PLN]  Engine power [KM]  Maximum torque [Nm]  \\\n",
       "0                       345700                360                  664   \n",
       "1                       308400                313                  540   \n",
       "2                       414900                503                  973   \n",
       "3                       319700                313                  540   \n",
       "4                       357000                360                  664   \n",
       "\n",
       "        Type of brakes Drive type  Battery capacity [kWh]  Range (WLTP) [km]  \\\n",
       "0  disc (front + rear)        4WD                    95.0                438   \n",
       "1  disc (front + rear)        4WD                    71.0                340   \n",
       "2  disc (front + rear)        4WD                    95.0                364   \n",
       "3  disc (front + rear)        4WD                    71.0                346   \n",
       "4  disc (front + rear)        4WD                    95.0                447   \n",
       "\n",
       "   ...  Permissable gross weight [kg]  Maximum load capacity [kg]  \\\n",
       "0  ...                         3130.0                       640.0   \n",
       "1  ...                         3040.0                       670.0   \n",
       "2  ...                         3130.0                       565.0   \n",
       "3  ...                         3040.0                       640.0   \n",
       "4  ...                         3130.0                       670.0   \n",
       "\n",
       "   Number of seats  Number of doors  Tire size [in]  Maximum speed [kph]  \\\n",
       "0                5                5              19                  200   \n",
       "1                5                5              19                  190   \n",
       "2                5                5              20                  210   \n",
       "3                5                5              19                  190   \n",
       "4                5                5              19                  200   \n",
       "\n",
       "   Boot capacity (VDA) [l]  Acceleration 0-100 kph [s]  \\\n",
       "0                    660.0                         5.7   \n",
       "1                    660.0                         6.8   \n",
       "2                    660.0                         4.5   \n",
       "3                    615.0                         6.8   \n",
       "4                    615.0                         5.7   \n",
       "\n",
       "   Maximum DC charging power [kW]  mean - Energy consumption [kWh/100 km]  \n",
       "0                             150                                   24.45  \n",
       "1                             150                                   23.80  \n",
       "2                             150                                   27.55  \n",
       "3                             150                                   23.30  \n",
       "4                             150                                   23.85  \n",
       "\n",
       "[5 rows x 25 columns]"
      ]
     },
     "execution_count": 5,
     "metadata": {},
     "output_type": "execute_result"
    }
   ],
   "source": [
    "df = pd.read_csv(\"FEV-data.csv\")\n",
    "df.head()  # Display first 5 rows\n"
   ]
  },
  {
   "cell_type": "markdown",
   "id": "114065e3-7fb9-49df-b528-b1ced20bb0e4",
   "metadata": {},
   "source": [
    "Task 1: A customer has a budget of 350,000 PLN and wants an EV with a minimum range\n",
    "of 400 km.\n",
    "a) Your task is to filter out EVs that meet these criteria.\n",
    "b) Group them by the manufacturer (Make).\n",
    "c) Calculate the average battery capacity for each manufacturer."
   ]
  },
  {
   "cell_type": "code",
   "execution_count": 6,
   "id": "513bfe69-d982-4b73-b8b9-6bab966e6607",
   "metadata": {},
   "outputs": [
    {
     "name": "stdout",
     "output_type": "stream",
     "text": [
      "Filtered EVs:\n",
      "             Make                        Model  Minimal price (gross) [PLN]  \\\n",
      "0            Audi            e-tron 55 quattro                       345700   \n",
      "8             BMW                          iX3                       282900   \n",
      "15        Hyundai          Kona electric 64kWh                       178400   \n",
      "18            Kia                 e-Niro 64kWh                       167990   \n",
      "20            Kia                 e-Soul 64kWh                       160990   \n",
      "22  Mercedes-Benz                          EQC                       334700   \n",
      "39          Tesla  Model 3 Standard Range Plus                       195490   \n",
      "40          Tesla           Model 3 Long Range                       235490   \n",
      "41          Tesla          Model 3 Performance                       260490   \n",
      "47     Volkswagen         ID.3 Pro Performance                       155890   \n",
      "48     Volkswagen                   ID.3 Pro S                       179990   \n",
      "49     Volkswagen                     ID.4 1st                       202390   \n",
      "\n",
      "    Range (WLTP) [km]  \n",
      "0                 438  \n",
      "8                 460  \n",
      "15                449  \n",
      "18                455  \n",
      "20                452  \n",
      "22                414  \n",
      "39                430  \n",
      "40                580  \n",
      "41                567  \n",
      "47                425  \n",
      "48                549  \n",
      "49                500  \n",
      "\n",
      "Average Battery Capacity by Manufacturer:\n",
      "Make\n",
      "Audi             95.000000\n",
      "BMW              80.000000\n",
      "Hyundai          64.000000\n",
      "Kia              64.000000\n",
      "Mercedes-Benz    80.000000\n",
      "Tesla            68.000000\n",
      "Volkswagen       70.666667\n",
      "Name: Battery capacity [kWh], dtype: float64\n"
     ]
    }
   ],
   "source": [
    "# Filtering EVs\n",
    "filtered_cars = df[(df[\"Minimal price (gross) [PLN]\"] <= 350000) & (df[\"Range (WLTP) [km]\"] >= 400)]\n",
    "\n",
    "# Grouping by manufacturer and calculating average battery capacity\n",
    "avg_battery_capacity = filtered_cars.groupby(\"Make\")[\"Battery capacity [kWh]\"].mean()\n",
    "\n",
    "print(\"Filtered EVs:\")\n",
    "print(filtered_cars[[\"Make\", \"Model\", \"Minimal price (gross) [PLN]\", \"Range (WLTP) [km]\"]])\n",
    "\n",
    "print(\"\\nAverage Battery Capacity by Manufacturer:\")\n",
    "print(avg_battery_capacity)\n"
   ]
  },
  {
   "cell_type": "markdown",
   "id": "01b75275-6d3b-42d0-8b08-6bd237ad78d4",
   "metadata": {},
   "source": [
    "Task 2: You suspect some EVs have unusually high or low energy consumption. Find the\n",
    "outliers in the mean - Energy consumption [kWh/100 km] column."
   ]
  },
  {
   "cell_type": "code",
   "execution_count": 10,
   "id": "4ec6f5be-484e-4a99-956e-111b7e70c280",
   "metadata": {},
   "outputs": [
    {
     "name": "stdout",
     "output_type": "stream",
     "text": [
      "Outliers using Standard Deviation:\n",
      "             Make       Model  mean - Energy consumption [kWh/100 km]\n",
      "51  Mercedes-Benz  EQV (long)                                    28.2\n"
     ]
    }
   ],
   "source": [
    "# Calculate mean and standard deviation\n",
    "mean_value = df[\"mean - Energy consumption [kWh/100 km]\"].mean()\n",
    "std_dev = df[\"mean - Energy consumption [kWh/100 km]\"].std()\n",
    "\n",
    "# Define outlier range\n",
    "lower_bound = mean_value - (2 * std_dev)\n",
    "upper_bound = mean_value + (2 * std_dev)\n",
    "\n",
    "# Find outliers\n",
    "outliers_std = df[(df[\"mean - Energy consumption [kWh/100 km]\"] < lower_bound) | \n",
    "                  (df[\"mean - Energy consumption [kWh/100 km]\"] > upper_bound)]\n",
    "\n",
    "print(\"Outliers using Standard Deviation:\")\n",
    "print(outliers_std[[\"Make\", \"Model\", \"mean - Energy consumption [kWh/100 km]\"]])\n",
    "\n"
   ]
  },
  {
   "cell_type": "code",
   "execution_count": 12,
   "id": "98e6fb9c-4efa-46aa-82e7-79788bc9b544",
   "metadata": {},
   "outputs": [
    {
     "data": {
      "image/png": "[encoded data removed]",
      "text/plain": [
       "<Figure size 800x500 with 1 Axes>"
      ]
     },
     "metadata": {},
     "output_type": "display_data"
    }
   ],
   "source": [
    "import matplotlib.pyplot as plt\n",
    "import seaborn as sns\n",
    "\n",
    "plt.figure(figsize=(8, 5))\n",
    "sns.boxplot(x=df[\"mean - Energy consumption [kWh/100 km]\"])\n",
    "plt.title(\"Boxplot of Energy Consumption\")\n",
    "plt.show()\n"
   ]
  },
  {
   "cell_type": "markdown",
   "id": "8f4dc019-6884-4085-9011-81f4a9af94ed",
   "metadata": {},
   "source": [
    "Task 3: Your manager wants to know if there's a strong relationship between battery\n",
    "capacity and range.\n",
    "a) Create a suitable plot to visualize.\n",
    "b) Highlight any insights."
   ]
  },
  {
   "cell_type": "code",
   "execution_count": 13,
   "id": "2c90e5af-98f9-4df7-8be8-7b9a9a80d903",
   "metadata": {},
   "outputs": [
    {
     "data": {
      "image/png": "[encoded data removed]",
      "text/plain": [
       "<Figure size 1000x600 with 1 Axes>"
      ]
     },
     "metadata": {},
     "output_type": "display_data"
    }
   ],
   "source": [
    "plt.figure(figsize=(10, 6))\n",
    "sns.scatterplot(data=df, x=\"Battery capacity [kWh]\", y=\"Range (WLTP) [km]\", hue=\"Make\", alpha=0.7)\n",
    "plt.xlabel(\"Battery Capacity (kWh)\")\n",
    "plt.ylabel(\"Range (km)\")\n",
    "plt.title(\"Battery Capacity vs. Range\")\n",
    "plt.legend(loc=\"best\")\n",
    "plt.show()\n"
   ]
  },
  {
   "cell_type": "markdown",
   "id": "e18fbf19-66c8-449c-86f9-c498a5398fea",
   "metadata": {},
   "source": [
    "Task 4: Build an EV recommendation class. The class should allow users to input their\n",
    "budget, desired range, and battery capacity. The class should then return the top three EVs\n",
    "matching their criteria. "
   ]
  },
  {
   "cell_type": "code",
   "execution_count": 14,
   "id": "6628f361-6a4d-493c-884f-a2ff22dc11d8",
   "metadata": {},
   "outputs": [
    {
     "name": "stdout",
     "output_type": "stream",
     "text": [
      "Top EV Recommendations:\n",
      "       Make                Model  Minimal price (gross) [PLN]  \\\n",
      "0      Audi    e-tron 55 quattro                       345700   \n",
      "8       BMW                  iX3                       282900   \n",
      "15  Hyundai  Kona electric 64kWh                       178400   \n",
      "\n",
      "    Range (WLTP) [km]  Battery capacity [kWh]  \n",
      "0                 438                    95.0  \n",
      "8                 460                    80.0  \n",
      "15                449                    64.0  \n"
     ]
    }
   ],
   "source": [
    "class EVRecommender:\n",
    "    def __init__(self, df):\n",
    "        self.df = df\n",
    "    \n",
    "    def recommend(self, budget, min_range, min_battery):\n",
    "        recommendations = self.df[\n",
    "            (self.df[\"Minimal price (gross) [PLN]\"] <= budget) & \n",
    "            (self.df[\"Range (WLTP) [km]\"] >= min_range) & \n",
    "            (self.df[\"Battery capacity [kWh]\"] >= min_battery)\n",
    "        ]\n",
    "        return recommendations[[\"Make\", \"Model\", \"Minimal price (gross) [PLN]\", \"Range (WLTP) [km]\", \"Battery capacity [kWh]\"]].head(3)\n",
    "\n",
    "# Example usage\n",
    "recommender = EVRecommender(df)\n",
    "budget = 350000\n",
    "range_needed = 400\n",
    "battery_needed = 60\n",
    "\n",
    "print(\"Top EV Recommendations:\")\n",
    "print(recommender.recommend(budget, range_needed, battery_needed))\n"
   ]
  },
  {
   "cell_type": "markdown",
   "id": "24bd70fd-f107-462e-bfd1-6214106e80b9",
   "metadata": {},
   "source": [
    "Task 5: Inferential Statistics – Hypothesis Testing: Test whether there is a significant\n",
    "difference in the average Engine power [KM] of vehicles manufactured by two leading\n",
    "manufacturers i.e. Tesla and Audi. What insights can you draw from the test results?\n",
    "Recommendations and Conclusion: Provide actionable insights based on your analysis.\n",
    "(Conduct a two sample t-test using ttest_ind from scipy.stats module) "
   ]
  },
  {
   "cell_type": "code",
   "execution_count": 15,
   "id": "b9e82bfa-aaad-4922-be8c-c8c47d16beb1",
   "metadata": {},
   "outputs": [
    {
     "name": "stdout",
     "output_type": "stream",
     "text": [
      "T-Statistic: 1.7939951827297178\n",
      "P-Value: 0.10684105068839565\n",
      "No significant difference in engine power between Tesla and Audi.\n"
     ]
    }
   ],
   "source": [
    "tesla_power = df[df[\"Make\"] == \"Tesla\"][\"Engine power [KM]\"]\n",
    "audi_power = df[df[\"Make\"] == \"Audi\"][\"Engine power [KM]\"]\n",
    "\n",
    "# Perform two-sample t-test\n",
    "t_stat, p_value = ttest_ind(tesla_power, audi_power, equal_var=False)\n",
    "\n",
    "print(\"T-Statistic:\", t_stat)\n",
    "print(\"P-Value:\", p_value)\n",
    "\n",
    "# Interpretation\n",
    "alpha = 0.05\n",
    "if p_value < alpha:\n",
    "    print(\"There is a significant difference in engine power between Tesla and Audi.\")\n",
    "else:\n",
    "    print(\"No significant difference in engine power between Tesla and Audi.\")\n"
   ]
  },
  {
   "cell_type": "markdown",
   "id": "0bf68aee-90c8-4712-8fdd-d765796dd029",
   "metadata": {},
   "source": [
    "task 6: video "
   ]
  },
  {
   "cell_type": "markdown",
   "id": "6210da37-c7e9-473d-b2ff-2e2be970d7c0",
   "metadata": {},
   "source": [
    "link:https://drive.google.com/file/d/1JwHvkaJal2MV9jyNZpB0iLHC22yn5hOc/view?usp=sharing\n"
   ]
  },
  {
   "cell_type": "code",
   "execution_count": null,
   "id": "293b1720-76d2-4730-8dc9-6e689a816d3d",
   "metadata": {},
   "outputs": [],
   "source": []
  }
 ],
 "metadata": {
  "kernelspec": {
   "display_name": "Python 3 (ipykernel)",
   "language": "python",
   "name": "python3"
  },
  "language_info": {
   "codemirror_mode": {
    "name": "ipython",
    "version": 3
   },
   "file_extension": ".py",
   "mimetype": "text/x-python",
   "name": "python",
   "nbconvert_exporter": "python",
   "pygments_lexer": "ipython3",
   "version": "3.12.7"
  }
 },
 "nbformat": 4,
 "nbformat_minor": 5
}
